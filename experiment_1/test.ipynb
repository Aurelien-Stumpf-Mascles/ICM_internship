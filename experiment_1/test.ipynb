{
 "cells": [
  {
   "cell_type": "code",
   "execution_count": 1,
   "metadata": {},
   "outputs": [],
   "source": [
    "import numpy as np \n",
    "import torch\n",
    "import pandas as pd\n",
    "from sklearn.model_selection import train_test_split\n",
    "import importlib\n",
    "import matplotlib.pyplot as plt\n",
    "from sklearn.preprocessing import Normalizer\n",
    "import sys\n",
    "sys.path.append(\"/home/aurelien.stumpf/Code/visualize_neural_network/\")\n",
    "import VisualizeNN as VisNN\n",
    "sys.path.append(\"/home/aurelien.stumpf/Code/\")\n",
    "import package.compute_procrustes as compute_procrustes\n",
    "import package.dataset as dataset\n",
    "import package.models as models\n",
    "import package.training as training"
   ]
  },
  {
   "cell_type": "code",
   "execution_count": 57,
   "metadata": {},
   "outputs": [
    {
     "name": "stdout",
     "output_type": "stream",
     "text": [
      "torch.Size([10, 1, 3])\n"
     ]
    }
   ],
   "source": [
    "batchsize = 10\n",
    "input_dim = 5\n",
    "output_dim = 3\n",
    "W = torch.ones((input_dim,output_dim*input_dim))\n",
    "x = torch.normal(0, 1, (batchsize,input_dim))\n",
    "Qx = (x @ W).reshape(batchsize,input_dim,output_dim)\n",
    "x = x.unsqueeze(-2)\n",
    "Qxx = torch.bmm(x,Qx)\n",
    "print(Qxx.shape)"
   ]
  },
  {
   "cell_type": "code",
   "execution_count": 62,
   "metadata": {},
   "outputs": [
    {
     "name": "stdout",
     "output_type": "stream",
     "text": [
      "torch.Size([10, 3])\n"
     ]
    }
   ],
   "source": [
    "batchsize = 10\n",
    "input_dim = 5\n",
    "output_dim = 3\n",
    "W = torch.ones((input_dim,output_dim*input_dim*input_dim*input_dim))\n",
    "x = torch.normal(0, 1, (batchsize,input_dim))\n",
    "Qx = (x @ W).reshape(batchsize,input_dim,output_dim*input_dim*input_dim)\n",
    "x = x.unsqueeze(-2)\n",
    "Qxx = torch.bmm(x,Qx).reshape(batchsize,input_dim,output_dim*input_dim)\n",
    "Qxxx = torch.bmm(x,Qxx).reshape(batchsize,input_dim,output_dim)\n",
    "Qxxxx = torch.bmm(x,Qxxx).squeeze(-2)\n",
    "print(Qxxxx.shape)"
   ]
  },
  {
   "cell_type": "code",
   "execution_count": 63,
   "metadata": {},
   "outputs": [
    {
     "name": "stdout",
     "output_type": "stream",
     "text": [
      "[0, 1]\n"
     ]
    }
   ],
   "source": [
    "l = [0]\n",
    "l.append(1)\n",
    "print(l)\n"
   ]
  }
 ],
 "metadata": {
  "kernelspec": {
   "display_name": "deep_env",
   "language": "python",
   "name": "python3"
  },
  "language_info": {
   "codemirror_mode": {
    "name": "ipython",
    "version": 3
   },
   "file_extension": ".py",
   "mimetype": "text/x-python",
   "name": "python",
   "nbconvert_exporter": "python",
   "pygments_lexer": "ipython3",
   "version": "3.8.10"
  }
 },
 "nbformat": 4,
 "nbformat_minor": 2
}
